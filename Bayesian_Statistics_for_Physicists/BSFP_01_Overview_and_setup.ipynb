{
 "cells": [
  {
   "cell_type": "markdown",
   "metadata": {},
   "source": [
    "# Bayesian Statistics for Physicists: 01 Overview and Setup"
   ]
  },
  {
   "cell_type": "markdown",
   "metadata": {},
   "source": [
    "## Contents of the BSFP series"
   ]
  },
  {
   "cell_type": "markdown",
   "metadata": {},
   "source": [
    "## <a name=\"Overview\">Overview</a>"
   ]
  },
  {
   "cell_type": "markdown",
   "metadata": {},
   "source": [
    "A brief, hands-on introduction to the basics of Bayesian statistics in a manner adapted to the general intuition and experience of physicists.  We use a Jupyter notebook with Python (with scipy, numpy, mathplotlib supplemented by specialized packages such as PyMC3) to allow for active visualization of examples, hands-on follow-ups, and readily extended content. You can find the notebooks (labeled BSFP_nn_xxx.ipynb) and associated files at\n",
    "https://github.com/furnstahl/Bayes_for_physicists under <code>Bayesian_Statistics_for_Physicists</code>.\n",
    "\n",
    "This is not an exhaustive guide to Bayesian statistics, but a selected sampling of topics that come up regularly in physics applications, with links to more information.\n",
    "Many of the examples were adapted from code found on the web.\n",
    "Please contribute suggestions, comments, links, code, ...\n",
    "\n",
    "Last revised: 14-Apr-2019 by Dick Furnstahl [furnstahl.1@osu.edu].\n",
    "\n",
    "<hr>"
   ]
  },
  {
   "cell_type": "markdown",
   "metadata": {},
   "source": [
    "## <a name=\"Contents\">Contents of this notebook</a> \n",
    "\n",
    "<ul>\n",
    "    <li><a href=\"#Overview\">Overview</a>\n",
    "    <li><a href=\"#Python\">Python set up</a>\n",
    "</ul>\n",
    "\n",
    "<hr>"
   ]
  },
  {
   "cell_type": "markdown",
   "metadata": {},
   "source": [
    "## <a name=\"Python\">Python/Jupyter set up</a>"
   ]
  },
  {
   "cell_type": "markdown",
   "metadata": {},
   "source": [
    "### Getting packages"
   ]
  },
  {
   "attachments": {},
   "cell_type": "markdown",
   "metadata": {},
   "source": [
    "We recommend installing the standard Anaconda Python3 package (from https://www.anaconda.com/download), which is available for Windows, Mac OS X, and Linux.  Anaconda will provide scipy, numpy, matplotlib, and jupyter notebooks (and more!), along with a great mechanism (a package manager called conda) for updating or installing new packages. As of April, 2019, the current Anaconda version is for Python 3.7.\n",
    "\n",
    "<span class=\"blue\">You can start this notebook from the <a href=\"https://docs.anaconda.com/anaconda/navigator/\">Anaconda Navigator</a> (which is installed with Anaconda) or from the command line (go to the directory with this notebook and type: <code>jupyter notebook</code>).</span>  The Anaconda Navigator also provides links to documentation \n",
    "\n",
    "It is convenient to use the Jupyter notebook extensions \"Code Folding\" and \"Collapsible Headings\", which can be turned on using the jupyter_nbextensions_configurator extension after installing via <br>\n",
    "<code>conda install -c conda-forge jupyter_contrib_nbextensions</code> \n",
    "<br> (see https://jupyter-contrib-nbextensions.readthedocs.io/en/latest/ for a complete list and full instructions). \n",
    "<br> The \"Nbextensions\" tab should be seen when you run <code>jupyter notebook</code> (along with \"Files\", \"Running\", and \"Clusters\").  It is where extensions can found can be easily turned on and off and documentation for a particular extension can be found: highlight the name and scroll to the bottom of the page.  \n",
    "\n",
    "Other packages you will need to install for some of the notebooks in this series (it is advised to use the command in \\[ \\]'s to install them):\n",
    "<ul>\n",
    "    <li>pymc3 [conda install -c conda-forge pymc3]\n",
    "    <li>emcee [conda install -c astropy emcee]\n",
    "    <li>corner [conda install -c astropy corner]\n",
    "    <li>pystan [conda install -c conda-forge pystan]\n",
    "</ul>\n",
    "Some users may find a conflict reported by conda for a particular package, which aborts the installation. For example, an issue has been reported for installing the corner package on a Linux machine.  In this case, it worked to install from source code (see https://corner.readthedocs.io/en/latest/install.html#from-source for corner), which will simply entail downloading the code and running <code>python setup.py install</code> in the root directory. "
   ]
  },
  {
   "cell_type": "markdown",
   "metadata": {},
   "source": [
    "### Python imports"
   ]
  },
  {
   "cell_type": "markdown",
   "metadata": {},
   "source": [
    "The following pieces of code will be repeated throughout this notebook series and even within particular notebooks.  (It doesn't hurt to give multiple <code>import</code> commands "
   ]
  },
  {
   "cell_type": "code",
   "execution_count": 1,
   "metadata": {
    "code_folding": []
   },
   "outputs": [],
   "source": [
    "# set up for plots in a Jupyter notebook using matplotlib (there are other plotting choices)\n",
    "%matplotlib inline   "
   ]
  },
  {
   "cell_type": "code",
   "execution_count": 2,
   "metadata": {},
   "outputs": [],
   "source": [
    "import numpy as np\n",
    "\n",
    "import scipy.stats as stats\n",
    "from scipy.stats import norm, uniform\n",
    "\n",
    "import matplotlib.pyplot as plt\n",
    "#plt.style.use('seaborn') # pretty matplotlib plots\n",
    "\n"
   ]
  },
  {
   "cell_type": "code",
   "execution_count": 3,
   "metadata": {},
   "outputs": [],
   "source": [
    "# make font adjustments\n",
    "plt.rcdefaults()  # revert to defaults for now\n",
    "#plt.rcParams['font.size'] = 12\n",
    "#plt.rcParams['legend.fontsize'] = 'medium'\n",
    "#plt.rcParams['figure.titlesize'] = 'medium'\n"
   ]
  },
  {
   "cell_type": "code",
   "execution_count": 4,
   "metadata": {
    "code_folding": []
   },
   "outputs": [
    {
     "data": {
      "text/html": [
       "<!-- Use html cell magic to add css styling -->\n",
       "<style>\n",
       "  em {\n",
       "      color: red;\n",
       "  }\n",
       "  dd {\n",
       "      margin-left: 15px;\n",
       "  }\n",
       "  .red{color: red}\n",
       "  .blue{color: blue}\n",
       "</style>\n"
      ],
      "text/plain": [
       "<IPython.core.display.HTML object>"
      ]
     },
     "metadata": {},
     "output_type": "display_data"
    }
   ],
   "source": [
    "%%html  \n",
    "<!-- Use html cell magic to add css styling -->\n",
    "<style>\n",
    "  em {\n",
    "      color: red;\n",
    "  }\n",
    "  dd {\n",
    "      margin-left: 15px;\n",
    "  }\n",
    "  .red{color: red}\n",
    "  .blue{color: blue}\n",
    "</style>"
   ]
  },
  {
   "cell_type": "markdown",
   "metadata": {},
   "source": [
    "Examples of the html css styles:\n",
    "We can make <span class=\"red\">these words</span> red \n",
    "and <span class=\"blue\">these words</span> blue.\n",
    "<br>\n",
    "How about a little extra <em>emphasis</em> using color?"
   ]
  },
  {
   "cell_type": "markdown",
   "metadata": {},
   "source": [
    "<p>[Return to <a href=\"#Contents\">Contents</a>]</p>\n",
    "\n",
    "<hr>"
   ]
  },
  {
   "cell_type": "code",
   "execution_count": null,
   "metadata": {},
   "outputs": [],
   "source": []
  }
 ],
 "metadata": {
  "kernelspec": {
   "display_name": "Python 3",
   "language": "python",
   "name": "python3"
  },
  "language_info": {
   "codemirror_mode": {
    "name": "ipython",
    "version": 3
   },
   "file_extension": ".py",
   "mimetype": "text/x-python",
   "name": "python",
   "nbconvert_exporter": "python",
   "pygments_lexer": "ipython3",
   "version": "3.6.7"
  }
 },
 "nbformat": 4,
 "nbformat_minor": 2
}
