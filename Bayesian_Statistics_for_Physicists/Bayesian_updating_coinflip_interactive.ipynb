{
 "cells": [
  {
   "cell_type": "markdown",
   "metadata": {},
   "source": [
    "# Bayesian Statistics for Physicists: 04 Bayesian updating examples"
   ]
  },
  {
   "cell_type": "markdown",
   "metadata": {},
   "source": [
    "## <a name=\"Python\">Python/Jupyter set up</a>"
   ]
  },
  {
   "cell_type": "markdown",
   "metadata": {},
   "source": [
    "See <a href=\"BSFP_01_Overview_and_setup.ipynb\">Part 01</a> for overall installation and setup."
   ]
  },
  {
   "cell_type": "code",
   "execution_count": 1,
   "metadata": {
    "code_folding": []
   },
   "outputs": [],
   "source": [
    "%matplotlib inline   "
   ]
  },
  {
   "cell_type": "code",
   "execution_count": 2,
   "metadata": {},
   "outputs": [],
   "source": [
    "import numpy as np\n",
    "\n",
    "import scipy.stats as stats\n",
    "from scipy.stats import norm, uniform\n",
    "\n",
    "import matplotlib.pyplot as plt\n",
    "#plt.style.use('seaborn') # pretty matplotlib plots\n",
    "\n",
    "import corner\n",
    "import pymc3 as pm\n"
   ]
  },
  {
   "cell_type": "code",
   "execution_count": 3,
   "metadata": {},
   "outputs": [],
   "source": [
    "# make font adjustments\n",
    "#plt.rcParams['font.size'] = 12\n",
    "#plt.rcParams['legend.fontsize'] = 'medium'\n",
    "#plt.rcParams['figure.titlesize'] = 'medium'\n",
    "plt.rcdefaults()  # revert to defaults for now"
   ]
  },
  {
   "cell_type": "code",
   "execution_count": 4,
   "metadata": {
    "code_folding": []
   },
   "outputs": [
    {
     "data": {
      "text/html": [
       "<!-- Use html cell magic to add css styling -->\n",
       "<style>\n",
       "  em {\n",
       "      color: red;\n",
       "  }\n",
       "  dd {\n",
       "      margin-left: 15px;\n",
       "  }\n",
       "  .red{color: red}\n",
       "  .blue{color: blue}\n",
       "</style>\n"
      ],
      "text/plain": [
       "<IPython.core.display.HTML object>"
      ]
     },
     "metadata": {},
     "output_type": "display_data"
    }
   ],
   "source": [
    "%%html  \n",
    "<!-- Use html cell magic to add css styling -->\n",
    "<style>\n",
    "  em {\n",
    "      color: red;\n",
    "  }\n",
    "  dd {\n",
    "      margin-left: 15px;\n",
    "  }\n",
    "  .red{color: red}\n",
    "  .blue{color: blue}\n",
    "</style>"
   ]
  },
  {
   "cell_type": "markdown",
   "metadata": {},
   "source": [
    "## <a name=\"Updating\">Bayesian updating examples</a>"
   ]
  },
  {
   "cell_type": "markdown",
   "metadata": {},
   "source": [
    "### Determining the bias of a coin"
   ]
  },
  {
   "cell_type": "markdown",
   "metadata": {},
   "source": [
    "The idea here is that we are observing successive flips of a coin, which is a proxy for any process that has a binary outcome.  There is a definite true probability for getting heads, which we'll label $p_h$, but we don't know what it is.  We start with a preconceived notion of the probability expressed in terms of a prior pdf for $p_h$, i.e., $p(p_h)$.  With each flip of the coin, we have more information, so our goal is to <em>update</em> our expectation of $p_h$, meaning we want the posterior $p(p_h\\mid \\mbox{# tosses, # heads})$. "
   ]
  },
  {
   "cell_type": "code",
   "execution_count": 5,
   "metadata": {},
   "outputs": [
    {
     "data": {
      "application/vnd.jupyter.widget-view+json": {
       "model_id": "3dcb2183d33c4f35beca1d7beb284225",
       "version_major": 2,
       "version_minor": 0
      },
      "text/plain": [
       "VBox(children=(Tab(children=(VBox(children=(HBox(children=(Button(description='Next', layout=Layout(width='80p…"
      ]
     },
     "metadata": {},
     "output_type": "display_data"
    }
   ],
   "source": [
    "%matplotlib inline\n",
    "import numpy as np\n",
    "from matplotlib import pyplot as plt\n",
    "\n",
    "import scipy.stats as stats\n",
    "\n",
    "import ipywidgets as widgets\n",
    "from ipywidgets import HBox, VBox, Layout, Tab, Label, Checkbox, Button\n",
    "from ipywidgets import FloatSlider, IntSlider, Play, Dropdown, HTMLMath \n",
    "\n",
    "from IPython.display import display\n",
    "\n",
    "# If the coin is fair, prob_heads = 0.5 but you can set it to whatever \n",
    "#  you want from 0 to 1.\n",
    "prob_heads = 0.4\n",
    "\n",
    "# hyperparameters for several different priors\n",
    "# prior 1 is uniform in [0,1]\n",
    "alpha_1 = 1\n",
    "beta_1 = 1\n",
    "# prior 2 is concentrated near 0.5 with very small tails\n",
    "alpha_2 = 30\n",
    "beta_2 = 30\n",
    "# prior 3 is peaked at ends, but allows for probability everywhere\n",
    "alpha_3 = .2\n",
    "beta_3 = .2\n",
    "\n",
    "# Calculate Bayesian updating using the conjugate prior for binomial, \n",
    "#  which is a beta distribution\n",
    "dist = stats.beta\n",
    "n_trials_max = 5000\n",
    "# heads or tails, 1 or 0, for independent tosses\n",
    "# mesh for posterior plots; enough to make the pdfs smooth even when narrow\n",
    "x = np.linspace(0, 1, 301) \n",
    "\n",
    "def generate_data(prob_heads=0.5, n_trials_max=5000):\n",
    "    \"\"\"\n",
    "    Generate the distribution for heads or tails, 1 or 0, for independent\n",
    "    tosses.\n",
    "    \"\"\"\n",
    "    return stats.bernoulli.rvs(prob_heads, size=n_trials_max)  \n",
    "\n",
    "def update_plot(N=0, jump=1, recalculate_data=True, \n",
    "                prob_heads=0.5, n_trials_max=5000):\n",
    "    \"\"\"\n",
    "    Make a new plot based on the current widget settings.\n",
    "    \"\"\"\n",
    "    global data\n",
    "  \n",
    "    font_size = 18\n",
    "    plt.rcParams.update({'font.size': font_size})\n",
    "    \n",
    "    fig = plt.figure(figsize=(12,5))\n",
    "    ax = fig.add_subplot(1, 1, 1)\n",
    "\n",
    "    if recalculate_data:\n",
    "        data = generate_data(prob_heads, n_trials_max)\n",
    "        recalculate_data_w.value = False\n",
    "\n",
    "    heads = data[:N].sum()   # add up the 1s (= # of heads)\n",
    "    y_1 = dist.pdf(x, alpha_1 + heads, beta_1 + N - heads)    \n",
    "    y_2 = dist.pdf(x, alpha_2 + heads, beta_2 + N - heads)   \n",
    "    y_3 = dist.pdf(x, alpha_3 + heads, beta_3 + N - heads)   \n",
    "    y_max = np.max([y_1.max(), y_2.max()])  \n",
    "    # default y_3 distribution has two high max at endpoints for plot\n",
    "    \n",
    "    line1, = ax.plot(x, y_1, label=\"uniform prior\", color=\"blue\")\n",
    "    ax.fill_between(x, 0, y_1, color=\"blue\", alpha=0.1)\n",
    "    line2, = ax.plot(x, y_2, label=\"informative prior\", color=\"red\")\n",
    "    ax.fill_between(x, 0, y_2, color=\"red\", alpha=0.1)\n",
    "    line3, = ax.plot(x, y_3, label=\"anti prior\", color=\"green\")\n",
    "    ax.fill_between(x, 0, y_3, color=\"green\", alpha=0.1)\n",
    "     \n",
    "    ax.set_xlabel(\"$p_h$, probability of heads\") \n",
    "    ax.set_yticks([])  # turn off the plotting of ticks on the y-axis\n",
    "    ax.axvline(prob_heads, 0, 1.1*y_max, color=\"k\", linestyle=\"--\", lw=2)\n",
    "    ax.annotate(\"observe {:d} tosses,\\n {:d} heads\".format(N, heads), \n",
    "                xy=(0.05,0.35), xycoords='axes fraction', \n",
    "                horizontalalignment='left',verticalalignment='top')\n",
    "    leg = ax.legend()\n",
    "    leg.get_frame().set_alpha(0.4)\n",
    "    ax.autoscale(tight=True)\n",
    "\n",
    "\n",
    "recalculate_data_w = Checkbox(value=True)    \n",
    "prob_heads_w = FloatSlider(value=prob_heads, min=0., max=1., step=0.05,\n",
    "                           description='prob. heads:',\n",
    "                           continuous_update=False)\n",
    "n_trials_max_w = IntSlider(value=n_trials_max, min=100, max=10000, step=100,\n",
    "                           description='max # trials:',\n",
    "                           continuous_update=False)\n",
    " \n",
    "N_w = IntSlider(value=0, min=0, max=n_trials_max, step=1,\n",
    "                continuous_update=False)\n",
    "next_button_w = Button(description='Next', disabled=False,\n",
    "                       layout=Layout(width='80px'), button_style='', \n",
    "                       tooltip='Increment number of trials by jump')\n",
    "reset_button_w = Button(description='Reset', disabled=False,\n",
    "                        layout=Layout(width='80px'), button_style='', \n",
    "                        tooltip='Reset number of trials to zero')\n",
    "\n",
    "jump_w = Dropdown(description='Jump:',\n",
    "                  layout=Layout(width='150px'),\n",
    "                  options=['1', '10', '100', '1000'],\n",
    "                  value='1',\n",
    "                  continuos_update=False,\n",
    "                  disabled=False,)\n",
    "\n",
    "\n",
    "def update_N(b):\n",
    "    \"\"\"Increment the number of trials N by the Jump value\"\"\"\n",
    "    N_w.value += int(jump_w.value)\n",
    "    \n",
    "def reset_N(b):\n",
    "    \"\"\"Reset the number of trials N to zero\"\"\"\n",
    "    N_w.value = 0\n",
    "    \n",
    "def update_prob_heads(b):\n",
    "    \"\"\"Change the value of prob_heads and regenerate data.\"\"\"\n",
    "    recalculate_data_w.value = True\n",
    "    N_w.max = n_trials_max_w.value\n",
    "\n",
    "next_button_w.on_click(update_N)\n",
    "reset_button_w.on_click(reset_N)\n",
    " \n",
    "prob_heads_w.observe(update_prob_heads, 'value')    \n",
    "n_trials_max_w.observe(update_prob_heads, 'value')    \n",
    "\n",
    "\n",
    "# Text for the help section in HTML (could move this to an external file!)\n",
    "overview_text = \\\n",
    "   r\"\"\"<p>Here we explore Bayesian updating for a coin flip. There is help \n",
    "          available under the other tabs.</p>  \n",
    "          <ul>\n",
    "            <li>Bayes theorem tab: find out about Bayesian updating.\n",
    "            <li>Plotting tab: adjust what is plotted and over what intervals.  \n",
    "                Also about the algorithm used.\n",
    "            <li>Styling tab: change how the plots look.\n",
    "            <li>Animate tab: look at animated plots of the time dependence.\n",
    "          </ul>      \n",
    "    \"\"\" \n",
    "Bayes_text = \\\n",
    "    r\"\"\"\n",
    "    <p>Recall Bayes' theorem with $\\thetavec$ the vector of parameters \n",
    "    we seek and information $I$ is kept implicit.</p>\n",
    "\n",
    "$$\n",
    "  \\newcommand{\\thetavec}{\\boldsymbol{\\theta}}\n",
    "  \\overbrace{p(\\thetavec \\mid \\textrm{data},I)}^{\\textrm{posterior}} =\n",
    "  \\frac{\\color{red}{\\overbrace{p(\\textrm{data} \\mid \\thetavec,I)}^{\\textrm{likelihood}}} \\times\n",
    "   \\color{blue}{\\overbrace{p(\\thetavec \\mid I)}^{\\textrm{prior}}}}\n",
    "   {\\color{darkgreen}{\\underbrace{p(\\textrm{data} \\mid I)}_{\\textrm{evidence}}}}\n",
    "$$\n",
    "\n",
    "  <p>If we view the prior as the initial information we have about \n",
    "     $\\thetavec$, summarized as a probability density function, \n",
    "     then Bayes' theorem tells us how to <em>update</em> that \n",
    "     information after observing some data: this is the posterior pdf.  \n",
    "     Here we will look at an example of how this plays out in practice:\n",
    "     flipping a (biased) coin.</p>     \n",
    "    \"\"\"\n",
    "\n",
    "play_text = \\\n",
    "    r\"\"\"\n",
    "    \"\"\"\n",
    "\n",
    "priors_text = \\\n",
    "    r\"\"\"\n",
    "    \"\"\"\n",
    "\n",
    "setup_text = \\\n",
    "    r\"\"\"\n",
    "    \"\"\"\n",
    "\n",
    "# Widgets for the help section, which are HTMLMath boxes in a Tab widget\n",
    "help_max_height = '500px'\n",
    "help_overview_w = HTMLMath(value=overview_text)\n",
    "help_Bayes_w = HTMLMath(value=Bayes_text)\n",
    "help_play_w = HTMLMath(value=play_text)\n",
    "help_priors_w = HTMLMath(value=priors_text)\n",
    "help_setup_w = HTMLMath(value=setup_text)\n",
    "help_w = Tab(children=[help_overview_w, help_Bayes_w, help_play_w, \n",
    "                       help_priors_w, help_setup_w], \n",
    "             layout=Layout(width='95%', max_height=help_max_height))\n",
    "help_w.set_title(0, 'Overview')\n",
    "help_w.set_title(1, 'Bayes Theorem')\n",
    "help_w.set_title(2, 'Play')\n",
    "help_w.set_title(3, 'Priors')\n",
    "help_w.set_title(4, 'Set-up')\n",
    "    \n",
    "\n",
    "plot_out = widgets.interactive_output(update_plot,\n",
    "                                      dict(\n",
    "                                           N=N_w,\n",
    "                                           jump=jump_w,\n",
    "                                           recalculate_data=recalculate_data_w,\n",
    "                                           prob_heads=prob_heads_w,\n",
    "                                           n_trials_max=n_trials_max_w,\n",
    "                                      )\n",
    "                                     )\n",
    "\n",
    "hbox0 = HBox([next_button_w, jump_w, reset_button_w, prob_heads_w])\n",
    "hbox1 = HBox([])\n",
    "hbox2 = HBox([n_trials_max_w])\n",
    "hbox3 = HBox([help_w])\n",
    "\n",
    "# We'll set up Tabs to organize the controls.  The Tab contents are declared\n",
    "#  as tab0, tab1, ... (probably should make this a list?) and the overall Tab\n",
    "#  is called tab (so its children are tab0, tab1, ...).\n",
    "tab_height = '70px'  # Fixed minimum height for all tabs. Specify another way?\n",
    "tab0 = VBox([hbox0], layout=Layout(min_height=tab_height))\n",
    "tab1 = VBox([hbox1], layout=Layout(min_height=tab_height))\n",
    "tab2 = VBox([hbox2], layout=Layout(min_height=tab_height))\n",
    "tab3 = VBox([hbox3], layout=Layout(min_height=tab_height))\n",
    "\n",
    "tab = Tab(children=[tab0, tab1, tab2, tab3])\n",
    "tab.set_title(0, 'Play')\n",
    "tab.set_title(1, 'Priors')\n",
    "tab.set_title(2, 'Set-up')\n",
    "tab.set_title(3, 'Help')\n",
    "\n",
    "UI_box = VBox([tab, plot_out])\n",
    "display(UI_box)   "
   ]
  },
  {
   "cell_type": "markdown",
   "metadata": {},
   "source": [
    "### Radioactive decay problem (lighthouse problem)"
   ]
  },
  {
   "cell_type": "code",
   "execution_count": null,
   "metadata": {},
   "outputs": [],
   "source": []
  },
  {
   "cell_type": "markdown",
   "metadata": {},
   "source": []
  }
 ],
 "metadata": {
  "kernelspec": {
   "display_name": "Python 3",
   "language": "python",
   "name": "python3"
  },
  "language_info": {
   "codemirror_mode": {
    "name": "ipython",
    "version": 3
   },
   "file_extension": ".py",
   "mimetype": "text/x-python",
   "name": "python",
   "nbconvert_exporter": "python",
   "pygments_lexer": "ipython3",
   "version": "3.6.7"
  }
 },
 "nbformat": 4,
 "nbformat_minor": 2
}
