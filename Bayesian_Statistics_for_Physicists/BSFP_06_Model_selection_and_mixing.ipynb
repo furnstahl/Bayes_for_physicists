{
 "cells": [
  {
   "cell_type": "markdown",
   "metadata": {},
   "source": [
    "# Bayesian Statistics for Physicists: 06 Model selection, mixing, ..."
   ]
  },
  {
   "cell_type": "markdown",
   "metadata": {},
   "source": [
    "## Contents of the BSFP series"
   ]
  },
  {
   "cell_type": "markdown",
   "metadata": {},
   "source": [
    "<ul>\n",
    "    <li><a href=\"BSFP_01_Overview_and_setup.ipynb\">01 Overview and Setup</a>\n",
    "    <li><a href=\"BSFP_02_Basics.ipynb\">02 Bayesian basics</a>\n",
    "    <li><a href=\"BSFP_03_Choosing_priors.ipynb\">03 Choosing priors</a>\n",
    "    <li><a href=\"BSFP_04_Bayesian_updating.ipynb\">04 Examples of Bayesian updating</a>\n",
    "    <li><a href=\"BSFP_05_Sampling.ipynb\">05 Sampling</a>\n",
    "    <li><a href=\"BSFP_06_Model_selection_and_mixing.ipynb\">06 Model selection, mixing, ...</a>\n",
    "    <li><a href=\"BSFP_07_Gaussian_processes.ipynb\">07 Gaussian processes</a>\n",
    "    <li><a href=\"BSFP_08_Machine_learning.ipynb\">08 Machine learning</a>\n",
    "    <li><a href=\"BSFP_A01_Appendices.ipynb\">A01 Appendices: reference, vocabulary, notation</a>\n",
    "</ul>\n",
    "\n",
    "<hr>"
   ]
  },
  {
   "cell_type": "markdown",
   "metadata": {},
   "source": [
    "## <a name=\"Overview\">Overview of Model selection, mixing, ...</a>"
   ]
  },
  {
   "cell_type": "markdown",
   "metadata": {},
   "source": [
    "Last revised: 14-Oct-2018 by Dick Furnstahl [furnstahl.1@osu.edu].\n",
    "\n",
    "<hr>"
   ]
  },
  {
   "cell_type": "markdown",
   "metadata": {},
   "source": [
    "## <a name=\"Contents\">Contents of 06 Model selection, mixing, ...</a> \n",
    "\n",
    "<ul>\n",
    "    <li><a href=\"#Evidence\">Model selection: Bayes ratio and evidence</a>\n",
    "</ul>\n",
    "\n",
    "<hr>"
   ]
  },
  {
   "cell_type": "markdown",
   "metadata": {},
   "source": [
    "## <a name=\"Python\">Python/Jupyter set up</a>"
   ]
  },
  {
   "cell_type": "markdown",
   "metadata": {},
   "source": [
    "See <a href=\"BSFP_01_Overview_and_setup.ipynb\">Part 01</a> for overall installation and setup."
   ]
  },
  {
   "cell_type": "code",
   "execution_count": 1,
   "metadata": {
    "code_folding": []
   },
   "outputs": [],
   "source": [
    "# set up for plots in this notebook using matplotlib (there are other plotting choices)\n",
    "%matplotlib inline   "
   ]
  },
  {
   "cell_type": "code",
   "execution_count": 2,
   "metadata": {},
   "outputs": [
    {
     "name": "stderr",
     "output_type": "stream",
     "text": [
      "/Users/furnstah/anaconda3/lib/python3.6/site-packages/h5py/__init__.py:36: FutureWarning: Conversion of the second argument of issubdtype from `float` to `np.floating` is deprecated. In future, it will be treated as `np.float64 == np.dtype(float).type`.\n",
      "  from ._conv import register_converters as _register_converters\n"
     ]
    }
   ],
   "source": [
    "import numpy as np\n",
    "\n",
    "import scipy.stats as stats\n",
    "from scipy.stats import norm, uniform\n",
    "\n",
    "import matplotlib.pyplot as plt\n",
    "#plt.style.use('seaborn') # pretty matplotlib plots\n",
    "\n",
    "import corner\n",
    "import pymc3 as pm\n"
   ]
  },
  {
   "cell_type": "code",
   "execution_count": 3,
   "metadata": {},
   "outputs": [],
   "source": [
    "# make font adjustments\n",
    "#plt.rcParams['font.size'] = 12\n",
    "#plt.rcParams['legend.fontsize'] = 'medium'\n",
    "#plt.rcParams['figure.titlesize'] = 'medium'\n",
    "plt.rcdefaults()  # revert to defaults for now"
   ]
  },
  {
   "cell_type": "code",
   "execution_count": 4,
   "metadata": {
    "code_folding": []
   },
   "outputs": [
    {
     "data": {
      "text/html": [
       "<!-- Use html cell magic to add css styling -->\n",
       "<style>\n",
       "  em {\n",
       "      color: red;\n",
       "  }\n",
       "  dd {\n",
       "      margin-left: 15px;\n",
       "  }\n",
       "  .red{color: red}\n",
       "  .blue{color: blue}\n",
       "</style>"
      ],
      "text/plain": [
       "<IPython.core.display.HTML object>"
      ]
     },
     "metadata": {},
     "output_type": "display_data"
    }
   ],
   "source": [
    "%%html  \n",
    "<!-- Use html cell magic to add css styling -->\n",
    "<style>\n",
    "  em {\n",
    "      color: red;\n",
    "  }\n",
    "  dd {\n",
    "      margin-left: 15px;\n",
    "  }\n",
    "  .red{color: red}\n",
    "  .blue{color: blue}\n",
    "</style>"
   ]
  },
  {
   "cell_type": "code",
   "execution_count": 5,
   "metadata": {},
   "outputs": [],
   "source": [
    "#%%javascript\n",
    "#IPython.OutputArea.auto_scroll_threshold = 9999;"
   ]
  },
  {
   "cell_type": "markdown",
   "metadata": {},
   "source": [
    "## <a name=\"Evidence\">Model selection and evidence</a> "
   ]
  },
  {
   "cell_type": "markdown",
   "metadata": {},
   "source": [
    "  $\\newcommand{\\thetavec}{\\boldsymbol{\\theta}}$\n",
    "  Determine the evidence for different models $M_1$ and $M_2$ via <em>marginalization</em> by integrating over all possible sets of parameters ${\\thetavec}$ in different models, with the same data $D$ and information $I$. \n",
    "\n",
    "<img style=\"float:right\" src=\"figures/Zoubin_Ghahramani_model_selection.png\" width=200>\n",
    "The evidence ratio for two different models:\n",
    "$$ \n",
    "   \\frac{p(M_1\\mid D, I)}{p(M_2\\mid D, I)}\n",
    "   = \\frac{p(D\\mid M_1, I)\\,p(M_1,I)}{p(D\\mid M_2, I)\\,p(M_2,I)}\n",
    "$$\n",
    "\n",
    "The Bayes Ratio (implements Occam’s Razor):\n",
    "$$\n",
    "\\frac{p(D\\mid M_1, I)}{p(D\\mid M_2, I)}\n",
    "  = \\frac{\\int\\!d\\thetavec_1\\, p(D\\mid\\thetavec_1,M_1,I)\n",
    "             \\,p(\\thetavec_1\\mid M_1,I)}\n",
    "         {\\int\\!d\\thetavec_2\\, p(D\\mid\\thetavec_2,M_2,I)\n",
    "             \\,p(\\thetavec_2\\mid M_2,I)}    \n",
    "$$\n",
    "\n",
    "Example: what order polynomial underlies the noisy data?\n",
    "<img src=\"figures/Bayes_model_selection_Minka2.png\" width=500>"
   ]
  },
  {
   "cell_type": "markdown",
   "metadata": {},
   "source": [
    "<p>[Return to <a href=\"#Contents\">Contents</a>]</p>\n",
    "\n",
    "<hr>"
   ]
  }
 ],
 "metadata": {
  "kernelspec": {
   "display_name": "Python 3",
   "language": "python",
   "name": "python3"
  },
  "language_info": {
   "codemirror_mode": {
    "name": "ipython",
    "version": 3
   },
   "file_extension": ".py",
   "mimetype": "text/x-python",
   "name": "python",
   "nbconvert_exporter": "python",
   "pygments_lexer": "ipython3",
   "version": "3.6.5"
  }
 },
 "nbformat": 4,
 "nbformat_minor": 2
}
