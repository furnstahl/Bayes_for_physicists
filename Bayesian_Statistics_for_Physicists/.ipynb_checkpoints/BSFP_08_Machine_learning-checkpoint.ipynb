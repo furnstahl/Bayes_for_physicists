{
 "cells": [
  {
   "cell_type": "markdown",
   "metadata": {},
   "source": [
    "# Bayesian Statistics for Physicists: 08 Machine Learning"
   ]
  },
  {
   "cell_type": "markdown",
   "metadata": {
    "heading_collapsed": true
   },
   "source": [
    "## <a name=\"Overview\">Overview</a>"
   ]
  },
  {
   "cell_type": "markdown",
   "metadata": {
    "hidden": true
   },
   "source": [
    "A brief, hands-on introduction to the basics of Bayesian statistics in a manner adapted to the general intuition and experience of physicists.  We use a Jupyter notebook with Python (scipy, numpy, mathplotlib) to allow for active visualization of examples, hands-on follow-ups, and readily extended content. You can find the notebook and associated files at\n",
    "https://github.com/furnstahl/Bayes_for_physicists.\n",
    "\n",
    "This is not an exhaustive guide to Bayesian statistics, but a selected sampling of topics that come up regularly in physics applications, with links to more information.\n",
    "Most of the examples were adapted from code found on the web.\n",
    "Please contribute suggestions, comments, links, code, ...\n",
    "\n",
    "Last revised: 08-Oct-2018 by Dick Furnstahl [furnstahl.1@osu.edu].\n",
    "\n",
    "<hr>"
   ]
  },
  {
   "cell_type": "markdown",
   "metadata": {},
   "source": [
    "## <a name=\"Contents\">Contents</a> \n",
    "\n",
    "<ul>\n",
    "    <li><a href=\"#Overview\">Overview</a>\n",
    "    <li><a href=\"#Python\">Python set up</a>\n",
    "    <li><a href=\"#Basics\">Bayesian basics</a> \n",
    "        [<a href=\"#Rules\">Rules</a>]\n",
    "        [<a href=\"#Networks\">Networks</a>]\n",
    "        [<a href=\"#Discrepancy\">Model discrepancy</a>] \n",
    "    <li><a href=\"#Priors\">Choosing priors</a>\n",
    "        [<a href=\"#MaxEntropy\">Maximum entropy</a>]\n",
    "        [<a href=\"#ConjPriors\">Conjugate priors</a>]\n",
    "    <li><a href=\"#Updating\">Bayesian updating examples</a>  \n",
    "    <li><a href=\"#Sampling\">Sampling</a>\n",
    "        [<a href=\"#Multivariate\">Multivariate gaussian</a>]\n",
    "        [<a href=\"#MCMC\">MCMC</a>]\n",
    "    <li><a href=\"#Evidence\">Model selection: Bayes ratio and evidence</a>\n",
    "    <li><a href=\"#GPs\">Gaussian processes</a> \n",
    "    <li><a href=\"#Appendices\">Appendices</a>: \n",
    "         [<a href=\"#References\">References</a>]\n",
    "         [<a href=\"#Vocabulary\">Vocabulary</a>]\n",
    "         [<a href=\"#Notation\">Notation</a>] \n",
    "</ul>\n",
    "\n",
    "<hr>"
   ]
  },
  {
   "cell_type": "markdown",
   "metadata": {},
   "source": [
    "## <a name=\"Python\">Python/Jupyter set up</a>"
   ]
  },
  {
   "cell_type": "markdown",
   "metadata": {},
   "source": [
    "We recommend installing the standard Anaconda Python3 package (from https://www.anaconda.com/download), which is available for Windows, Mac OS X, and Linux.  Anaconda will provide scipy, numpy, matplotlib, and jupyter notebooks (and more!).  \n",
    "\n",
    "<span class=\"blue\">You can start this notebook from the <a href=\"https://docs.anaconda.com/anaconda/navigator/\">Anaconda Navigator</a> or from the command line (go to the directory with this notebook and type: <code>jupyter notebook</code>).</span>\n",
    "\n",
    "It is convenient to use the Jupyter notebook extensions \"Code Folding\" and \"Collapsible Headings\", which can be turned on using the jupyter_nbextensions_configurator extension after installing via <br>\n",
    "<code>conda install -c conda-forge jupyter_contrib_nbextensions</code> \n",
    "<br> (see https://jupyter-contrib-nbextensions.readthedocs.io/en/latest/ for a complete list and full instructions). \n",
    "\n",
    "Other packages you will need to install for this notebook:\n",
    "<ul>\n",
    "    <li>pymc3 [conda install -c conda-forge pymc3]\n",
    "    <li>emcee [conda install -c astropy emcee]\n",
    "    <li>corner [conda install -c astropy corner]\n",
    "</ul>"
   ]
  },
  {
   "cell_type": "code",
   "execution_count": 1,
   "metadata": {
    "code_folding": []
   },
   "outputs": [],
   "source": [
    "# set up for plots in this notebook using matplotlib (there are other plotting choices)\n",
    "%matplotlib inline   "
   ]
  },
  {
   "cell_type": "code",
   "execution_count": 2,
   "metadata": {},
   "outputs": [
    {
     "name": "stderr",
     "output_type": "stream",
     "text": [
      "/Users/furnstah/anaconda3/lib/python3.6/site-packages/h5py/__init__.py:36: FutureWarning: Conversion of the second argument of issubdtype from `float` to `np.floating` is deprecated. In future, it will be treated as `np.float64 == np.dtype(float).type`.\n",
      "  from ._conv import register_converters as _register_converters\n"
     ]
    }
   ],
   "source": [
    "import numpy as np\n",
    "\n",
    "import scipy.stats as stats\n",
    "from scipy.stats import norm, uniform\n",
    "\n",
    "import matplotlib.pyplot as plt\n",
    "#plt.style.use('seaborn') # pretty matplotlib plots\n",
    "\n",
    "import corner\n",
    "import pymc3 as pm\n"
   ]
  },
  {
   "cell_type": "code",
   "execution_count": 3,
   "metadata": {},
   "outputs": [],
   "source": [
    "# make font adjustments\n",
    "#plt.rcParams['font.size'] = 12\n",
    "#plt.rcParams['legend.fontsize'] = 'medium'\n",
    "#plt.rcParams['figure.titlesize'] = 'medium'\n",
    "plt.rcdefaults()  # revert to defaults for now"
   ]
  },
  {
   "cell_type": "code",
   "execution_count": 4,
   "metadata": {
    "code_folding": []
   },
   "outputs": [
    {
     "data": {
      "text/html": [
       "<!-- Use html cell magic to add css styling -->\n",
       "<style>\n",
       "  em {\n",
       "      color: red;\n",
       "  }\n",
       "  dd {\n",
       "      margin-left: 15px;\n",
       "  }\n",
       "  .red{color: red}\n",
       "  .blue{color: blue}\n",
       "</style>"
      ],
      "text/plain": [
       "<IPython.core.display.HTML object>"
      ]
     },
     "metadata": {},
     "output_type": "display_data"
    }
   ],
   "source": [
    "%%html  \n",
    "<!-- Use html cell magic to add css styling -->\n",
    "<style>\n",
    "  em {\n",
    "      color: red;\n",
    "  }\n",
    "  dd {\n",
    "      margin-left: 15px;\n",
    "  }\n",
    "  .red{color: red}\n",
    "  .blue{color: blue}\n",
    "</style>"
   ]
  },
  {
   "cell_type": "code",
   "execution_count": 5,
   "metadata": {},
   "outputs": [],
   "source": [
    "#%%javascript\n",
    "#IPython.OutputArea.auto_scroll_threshold = 9999;"
   ]
  }
 ],
 "metadata": {
  "kernelspec": {
   "display_name": "Python 3",
   "language": "python",
   "name": "python3"
  },
  "language_info": {
   "codemirror_mode": {
    "name": "ipython",
    "version": 3
   },
   "file_extension": ".py",
   "mimetype": "text/x-python",
   "name": "python",
   "nbconvert_exporter": "python",
   "pygments_lexer": "ipython3",
   "version": "3.6.5"
  }
 },
 "nbformat": 4,
 "nbformat_minor": 2
}
