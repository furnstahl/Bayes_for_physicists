{
 "cells": [
  {
   "cell_type": "markdown",
   "metadata": {},
   "source": [
    "# Bayesian Statistics for Physicists: 08 Machine Learning"
   ]
  },
  {
   "cell_type": "markdown",
   "metadata": {},
   "source": [
    "## Contents of the BSFP series"
   ]
  },
  {
   "cell_type": "markdown",
   "metadata": {},
   "source": [
    "<ul>\n",
    "    <li><a href=\"BSFP_01_Overview_and_setup.ipynb\">01 Overview and Setup</a>\n",
    "    <li><a href=\"BSFP_02_Basics.ipynb\">02 Bayesian basics</a>\n",
    "    <li><a href=\"BSFP_03_Choosing_priors.ipynb\">03 Choosing priors</a>\n",
    "    <li><a href=\"BSFP_04_Bayesian_updating.ipynb\">04 Examples of Bayesian updating</a>\n",
    "    <li><a href=\"BSFP_05_Sampling.ipynb\">05 Sampling</a>\n",
    "    <li><a href=\"BSFP_06_Model_selection_and_mixing.ipynb\">06 Model selection, mixing, ...</a>\n",
    "    <li><a href=\"BSFP_07_Gaussian_processes.ipynb\">07 Gaussian processes</a>\n",
    "    <li><a href=\"BSFP_08_Machine_learning.ipynb\">08 Machine learning</a>\n",
    "    <li><a href=\"BSFP_A01_Appendices.ipynb\">A01 Appendices: reference, vocabulary, notation</a>\n",
    "</ul>\n",
    "\n",
    "<hr>"
   ]
  },
  {
   "cell_type": "markdown",
   "metadata": {},
   "source": [
    "## <a name=\"Overview\">Overview of 08 Machine learning</a>"
   ]
  },
  {
   "cell_type": "markdown",
   "metadata": {},
   "source": [
    "Last revised: 14-Oct-2018 by Dick Furnstahl [furnstahl.1@osu.edu].\n",
    "\n",
    "<hr>"
   ]
  },
  {
   "cell_type": "markdown",
   "metadata": {},
   "source": [
    "## <a name=\"Contents\">Contents</a> \n",
    "\n",
    "<ul>\n",
    "    <li>\n",
    "</ul>\n",
    "\n",
    "<hr>"
   ]
  },
  {
   "cell_type": "markdown",
   "metadata": {},
   "source": [
    "## <a name=\"Python\">Python/Jupyter set up</a>"
   ]
  },
  {
   "cell_type": "markdown",
   "metadata": {},
   "source": [
    "See <a href=\"BSFP_01_Overview_and_setup.ipynb\">Part 01</a> for overall installation and setup."
   ]
  },
  {
   "cell_type": "code",
   "execution_count": 1,
   "metadata": {
    "code_folding": []
   },
   "outputs": [],
   "source": [
    "# set up for plots in this notebook using matplotlib (there are other plotting choices)\n",
    "%matplotlib inline   "
   ]
  },
  {
   "cell_type": "code",
   "execution_count": 2,
   "metadata": {},
   "outputs": [
    {
     "name": "stderr",
     "output_type": "stream",
     "text": [
      "/Users/furnstah/anaconda3/lib/python3.6/site-packages/h5py/__init__.py:36: FutureWarning: Conversion of the second argument of issubdtype from `float` to `np.floating` is deprecated. In future, it will be treated as `np.float64 == np.dtype(float).type`.\n",
      "  from ._conv import register_converters as _register_converters\n"
     ]
    }
   ],
   "source": [
    "import numpy as np\n",
    "\n",
    "import scipy.stats as stats\n",
    "from scipy.stats import norm, uniform\n",
    "\n",
    "import matplotlib.pyplot as plt\n",
    "#plt.style.use('seaborn') # pretty matplotlib plots\n",
    "\n",
    "import corner\n",
    "import pymc3 as pm\n"
   ]
  },
  {
   "cell_type": "code",
   "execution_count": 3,
   "metadata": {},
   "outputs": [],
   "source": [
    "# make font adjustments\n",
    "#plt.rcParams['font.size'] = 12\n",
    "#plt.rcParams['legend.fontsize'] = 'medium'\n",
    "#plt.rcParams['figure.titlesize'] = 'medium'\n",
    "plt.rcdefaults()  # revert to defaults for now"
   ]
  },
  {
   "cell_type": "code",
   "execution_count": 4,
   "metadata": {
    "code_folding": []
   },
   "outputs": [
    {
     "data": {
      "text/html": [
       "<!-- Use html cell magic to add css styling -->\n",
       "<style>\n",
       "  em {\n",
       "      color: red;\n",
       "  }\n",
       "  dd {\n",
       "      margin-left: 15px;\n",
       "  }\n",
       "  .red{color: red}\n",
       "  .blue{color: blue}\n",
       "</style>"
      ],
      "text/plain": [
       "<IPython.core.display.HTML object>"
      ]
     },
     "metadata": {},
     "output_type": "display_data"
    }
   ],
   "source": [
    "%%html  \n",
    "<!-- Use html cell magic to add css styling -->\n",
    "<style>\n",
    "  em {\n",
    "      color: red;\n",
    "  }\n",
    "  dd {\n",
    "      margin-left: 15px;\n",
    "  }\n",
    "  .red{color: red}\n",
    "  .blue{color: blue}\n",
    "</style>"
   ]
  }
 ],
 "metadata": {
  "kernelspec": {
   "display_name": "Python 3",
   "language": "python",
   "name": "python3"
  },
  "language_info": {
   "codemirror_mode": {
    "name": "ipython",
    "version": 3
   },
   "file_extension": ".py",
   "mimetype": "text/x-python",
   "name": "python",
   "nbconvert_exporter": "python",
   "pygments_lexer": "ipython3",
   "version": "3.6.5"
  }
 },
 "nbformat": 4,
 "nbformat_minor": 2
}
